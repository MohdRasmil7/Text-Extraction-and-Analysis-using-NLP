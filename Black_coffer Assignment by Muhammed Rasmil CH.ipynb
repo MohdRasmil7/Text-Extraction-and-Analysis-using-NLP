{
 "cells": [
  {
   "cell_type": "code",
   "execution_count": 44,
   "metadata": {},
   "outputs": [
    {
     "name": "stdout",
     "output_type": "stream",
     "text": [
      "Requirement already satisfied: openpyxl in c:\\anaconda\\lib\\site-packages (3.1.2)\n",
      "Requirement already satisfied: et-xmlfile in c:\\anaconda\\lib\\site-packages (from openpyxl) (1.1.0)\n"
     ]
    }
   ],
   "source": [
    "!pip install --upgrade openpyxl\n"
   ]
  },
  {
   "cell_type": "code",
   "execution_count": 45,
   "metadata": {
    "colab": {
     "base_uri": "https://localhost:8080/"
    },
    "id": "3lNMH1gfF3cF",
    "outputId": "3474f221-df66-44ae-82b0-0123be61adae"
   },
   "outputs": [
    {
     "name": "stderr",
     "output_type": "stream",
     "text": [
      "[nltk_data] Downloading package punkt to C:\\Users\\Muhammed\n",
      "[nltk_data]     Rasmil\\AppData\\Roaming\\nltk_data...\n",
      "[nltk_data]   Package punkt is already up-to-date!\n",
      "[nltk_data] Downloading package stopwords to C:\\Users\\Muhammed\n",
      "[nltk_data]     Rasmil\\AppData\\Roaming\\nltk_data...\n",
      "[nltk_data]   Package stopwords is already up-to-date!\n"
     ]
    }
   ],
   "source": [
    "#import necessary pacakages\n",
    "import requests\n",
    "from bs4 import BeautifulSoup\n",
    "import pandas as pd\n",
    "import os\n",
    "import nltk\n",
    "from nltk.tokenize import word_tokenize\n",
    "from nltk.corpus import stopwords as sw\n",
    "nltk.download('punkt')\n",
    "nltk.download('stopwords')\n",
    "import warnings\n",
    "warnings.filterwarnings('ignore')\n",
    "import re"
   ]
  },
  {
   "cell_type": "code",
   "execution_count": 46,
   "metadata": {},
   "outputs": [
    {
     "name": "stdout",
     "output_type": "stream",
     "text": [
      "Can't get title of blackassign0036\n",
      "Can't get title of blackassign0049\n",
      "Extraction and saving completed successfully!\n"
     ]
    }
   ],
   "source": [
    "# Specify the file path\n",
    "file_path = r'C:\\Users\\Muhammed Rasmil\\Desktop\\black coffer assignment\\Input.xlsx'\n",
    "\n",
    "# Read the Excel file using pandas\n",
    "df = pd.read_excel(file_path, engine='openpyxl')\n",
    "\n",
    "# Loop through each row in the DataFrame\n",
    "for index, row in df.iterrows():\n",
    "    url = row['URL']\n",
    "    url_id = row['URL_ID']\n",
    "\n",
    "    # Make a request to the URL\n",
    "    header = {'User-Agent': \"Mozilla/5.0 (Windows NT 10.0; Win64; x64) AppleWebKit/537.36 (KHTML, like Gecko) Chrome/108.0.0.0 Safari/537.36\"}\n",
    "    try:\n",
    "        response = requests.get(url, headers=header)\n",
    "    except:\n",
    "        print(f\"Can't get response of {url_id}\")\n",
    "        continue\n",
    "\n",
    "    # Create a BeautifulSoup object\n",
    "    try:\n",
    "        soup = BeautifulSoup(response.content, 'html.parser')\n",
    "    except:\n",
    "        print(f\"Can't get page of {url_id}\")\n",
    "        continue\n",
    "\n",
    "    # Find title\n",
    "    try:\n",
    "        title = soup.find('h1').get_text()\n",
    "    except:\n",
    "        print(f\"Can't get title of {url_id}\")\n",
    "        continue\n",
    "\n",
    "    # Find text\n",
    "    article = \"\"\n",
    "    try:\n",
    "        for p in soup.find_all('p'):\n",
    "            article += p.get_text() + '\\n'\n",
    "    except:\n",
    "        print(f\"Can't get text of {url_id}\")\n",
    "        continue\n",
    "\n",
    "    # Write title and text to the file\n",
    "    file_name = f'C:/Users/Muhammed Rasmil/Desktop/black coffer assignment/titles/{url_id}.txt'\n",
    "    with open(file_name, 'w', encoding='utf-8') as file:\n",
    "        file.write(title + '\\n' + article)\n",
    "\n",
    "print(\"Extraction and saving completed successfully!\")\n",
    "\n",
    "\n"
   ]
  },
  {
   "cell_type": "code",
   "execution_count": 47,
   "metadata": {
    "id": "1tRdSv8ErMOm"
   },
   "outputs": [
    {
     "name": "stdout",
     "output_type": "stream",
     "text": [
      "Processing completed successfully!\n"
     ]
    }
   ],
   "source": [
    "# Directories\n",
    "text_dir = \"C:/Users/Muhammed Rasmil/Desktop/black coffer assignment/titles\"\n",
    "stopwords_dir = \"C:/Users/Muhammed Rasmil/Desktop/black coffer assignment/StopWords\"\n",
    "sentiment_dir = \"C:/Users/Muhammed Rasmil/Desktop/black coffer assignment/MasterDictionary\"\n",
    "\n",
    "# Load all stop words from the stopwords directory and store in the set variable\n",
    "stop_words = set()\n",
    "for filename in os.listdir(stopwords_dir):\n",
    "    with open(os.path.join(stopwords_dir, filename), 'r', encoding='latin-1') as f:\n",
    "        stop_words.update(set(f.read().splitlines()))\n",
    "\n",
    "# Load all text files from the directory and store in a list (docs)\n",
    "docs = []\n",
    "for text_file in os.listdir(text_dir):\n",
    "    with open(os.path.join(text_dir, text_file), 'r', encoding='latin-1') as f:\n",
    "        text = f.read()\n",
    "        # Tokenize the given text file\n",
    "        words = word_tokenize(text)\n",
    "        # Remove the stop words from the tokens\n",
    "        filtered_text = [word for word in words if word.lower() not in stop_words]\n",
    "        # Add each filtered token of each file into a list\n",
    "        docs.append(filtered_text)\n",
    "\n",
    "# store positive, Negative words from the directory\n",
    "pos=set()\n",
    "neg=set()\n",
    "\n",
    "for files in os.listdir(sentment_dir):\n",
    "  if files =='positive-words.txt':\n",
    "    with open(os.path.join(sentment_dir,files),'r',encoding='ISO-8859-1') as f:\n",
    "      pos.update(f.read().splitlines())\n",
    "  else:\n",
    "    with open(os.path.join(sentment_dir,files),'r',encoding='ISO-8859-1') as f:\n",
    "      neg.update(f.read().splitlines())\n",
    "\n",
    "# now collect the positive  and negative words from each file\n",
    "# calculate the scores from the positive and negative words \n",
    "positive_words = []\n",
    "Negative_words =[]\n",
    "positive_score = []\n",
    "negative_score = []\n",
    "polarity_score = []\n",
    "subjectivity_score = []\n",
    "\n",
    "#iterate through the list of docs\n",
    "for i in range(len(docs)):\n",
    "  positive_words.append([word for word in docs[i] if word.lower() in pos])\n",
    "  Negative_words.append([word for word in docs[i] if word.lower() in neg])\n",
    "  positive_score.append(len(positive_words[i]))\n",
    "  negative_score.append(len(Negative_words[i]))\n",
    "  polarity_score.append((positive_score[i] - negative_score[i]) / ((positive_score[i] + negative_score[i]) + 0.000001))\n",
    "  subjectivity_score.append((positive_score[i] + negative_score[i]) / ((len(docs[i])) + 0.000001))\n",
    "\n",
    "print(\"Processing completed successfully!\")"
   ]
  },
  {
   "cell_type": "code",
   "execution_count": 48,
   "metadata": {
    "id": "F8RaMuD_EnQQ"
   },
   "outputs": [],
   "source": [
    "\n",
    "\n",
    "# Average Sentence Length = the number of words / the number of sentences\n",
    "# Percentage of Complex words = the number of complex words / the number of words \n",
    "# Fog Index = 0.4 * (Average Sentence Length + Percentage of Complex words)\n",
    "\n",
    "avg_sentence_length = []\n",
    "percentage_of_complex_words  =  []\n",
    "fog_index = []\n",
    "complex_word_count =  []\n",
    "avg_syllable_word_count = []\n",
    "\n",
    "# Use a different variable name for the set of stopwords to avoid conflict with the module name\n",
    "stop_words = set(sw.words('english'))\n",
    "\n",
    "def measure(file):\n",
    "    with open(os.path.join(text_dir, file),'r', encoding='utf-8') as f:\n",
    "        text = f.read()\n",
    "    # remove punctuations \n",
    "    text = re.sub(r'[^\\w\\s.]','',text)\n",
    "    # split the given text file into sentences\n",
    "    sentences = text.split('.')\n",
    "    # total number of sentences in a file\n",
    "    num_sentences = len(sentences)\n",
    "    # total words in the file\n",
    "    words = [word for word in text.split() if word.lower() not in stop_words]\n",
    "    num_words = len(words)\n",
    " \n",
    "    # complex words having syllable count is greater than 2\n",
    "    # Complex words are words in the text that contain more than two syllables.\n",
    "    complex_words = []\n",
    "    for word in words:\n",
    "        vowels = 'aeiou'\n",
    "        syllable_count_word = sum(1 for letter in word if letter.lower() in vowels)\n",
    "        if syllable_count_word > 2:\n",
    "            complex_words.append(word)\n",
    "\n",
    "    # Syllable Count Per Word\n",
    "    # We count the number of Syllables in each word of the text by counting the vowels present in each word.\n",
    "    # We also handle some exceptions like words ending with \"es\",\"ed\" by not counting them as a syllable.\n",
    "    syllable_count = 0\n",
    "    syllable_words = []\n",
    "    for word in words:\n",
    "        if word.endswith('es'):\n",
    "            word = word[:-2]\n",
    "        elif word.endswith('ed'):\n",
    "            word = word[:-2]\n",
    "        vowels = 'aeiou'\n",
    "        syllable_count_word = sum(1 for letter in word if letter.lower() in vowels)\n",
    "        if syllable_count_word >= 1:\n",
    "            syllable_words.append(word)\n",
    "            syllable_count += syllable_count_word\n",
    "\n",
    "    avg_sentence_len = num_words / num_sentences\n",
    "    avg_syllable_word_count.append(syllable_count / len(syllable_words))\n",
    "    percent_complex_words  =  len(complex_words) / num_words\n",
    "    fog_index.append(0.4 * (avg_sentence_len + percent_complex_words))\n",
    "\n",
    "    return avg_sentence_len, percent_complex_words, fog_index[-1], len(complex_words), avg_syllable_word_count[-1]\n",
    "\n",
    "# iterate through each file or doc\n",
    "for file in os.listdir(text_dir):\n",
    "    x, y, z, a, b = measure(file)\n",
    "    avg_sentence_length.append(x)\n",
    "    percentage_of_complex_words.append(y)\n",
    "    fog_index.append(z)\n",
    "    complex_word_count.append(a)\n",
    "    avg_syllable_word_count.append(b)"
   ]
  },
  {
   "cell_type": "code",
   "execution_count": 49,
   "metadata": {
    "id": "4NElx7d94ICm"
   },
   "outputs": [],
   "source": [
    "# Word Count and Average Word Length Sum of the total number of characters in each word/Total number of words\n",
    "# We count the total cleaned words present in the text by \n",
    "# removing the stop words (using stopwords class of nltk package).\n",
    "# removing any punctuations like ? ! , . from the word before counting.\n",
    "\n",
    "def cleaned_words(file):\n",
    "    with open(os.path.join(text_dir, file), 'r', encoding='utf-8') as f:\n",
    "        text = f.read()\n",
    "    text = re.sub(r'[^\\w\\s]', '', text)\n",
    "    words = [word for word in text.split() if word.lower() not in stop_words]\n",
    "    length = sum(len(word) for word in words)\n",
    "    average_word_length = length / len(words)\n",
    "    return len(words), average_word_length\n",
    "\n",
    "word_count = []\n",
    "average_word_length = []\n",
    "for file in os.listdir(text_dir):\n",
    "    x, y = cleaned_words(file)\n",
    "    word_count.append(x)\n",
    "    average_word_length.append(y)\n",
    "\n",
    "def count_personal_pronouns(file):\n",
    "    with open(os.path.join(text_dir, file), 'r', encoding='utf-8') as f:\n",
    "        text = f.read()\n",
    "    personal_pronouns = [\"I\", \"we\", \"my\", \"ours\", \"us\"]\n",
    "    count = 0\n",
    "    for pronoun in personal_pronouns:\n",
    "        count += len(re.findall(r\"\\b\" + pronoun + r\"\\b\", text)) # \\b is used to match word boundaries\n",
    "    return count\n",
    "\n",
    "pp_count = []\n",
    "for file in os.listdir(text_dir):\n",
    "    x = count_personal_pronouns(file)\n",
    "    pp_count.append(x)"
   ]
  },
  {
   "cell_type": "code",
   "execution_count": 56,
   "metadata": {},
   "outputs": [],
   "source": [
    "output_df = pd.read_excel('Output Data Structure.xlsx')\n",
    "\n",
    "# URL_ID 44 ,57, 144 does not exists i,e. page does not exist, throughs 404 error\n",
    "# so we are going to drop these rows from the table\n",
    "rows_to_drop = [44, 57, 144]\n",
    "rows_to_drop = [index for index in rows_to_drop if index in output_df.index]\n",
    "output_df.drop(rows_to_drop, axis=0, inplace=True)\n",
    "\n",
    "\n",
    "\n",
    "\n",
    "Percentage_of_Complex_words = [None] * 98  # Replace None with actual values\n",
    "\n",
    "# If the variable at index 6 is supposed to be 'Fog_Index', for example:\n",
    "Fog_Index = [None] * 98  # Replace None with actual values\n",
    "\n",
    "# If the variable at index 10 is 'avg_syllable_word_count' and has 196 elements, adjust it:\n",
    "avg_syllable_word_count = avg_syllable_word_count[:98]  # Adjust as needed\n",
    "\n",
    "# Now, re-create the variables list with the corrected variables\n",
    "variables = [positive_score,\n",
    "             negative_score,\n",
    "             polarity_score,\n",
    "             subjectivity_score,\n",
    "             avg_sentence_length,\n",
    "             Percentage_of_Complex_words,\n",
    "             Fog_Index,\n",
    "             avg_sentence_length,\n",
    "             complex_word_count,\n",
    "             word_count,\n",
    "             avg_syllable_word_count,\n",
    "             pp_count,\n",
    "             average_word_length]\n",
    "# Assign the corrected variables to the DataFrame\n",
    "for i, var in enumerate(variables):\n",
    "    output_df.iloc[:, i + 2] = var\n",
    "\n",
    "# Save the DataFrame to a CSV file\n",
    "output_df.to_csv('Output_Data.csv', index=False)"
   ]
  },
  {
   "cell_type": "code",
   "execution_count": 51,
   "metadata": {},
   "outputs": [
    {
     "data": {
      "text/plain": [
       "98"
      ]
     },
     "execution_count": 51,
     "metadata": {},
     "output_type": "execute_result"
    }
   ],
   "source": [
    "len(positive_score)"
   ]
  },
  {
   "cell_type": "code",
   "execution_count": 52,
   "metadata": {},
   "outputs": [
    {
     "data": {
      "text/plain": [
       "98"
      ]
     },
     "execution_count": 52,
     "metadata": {},
     "output_type": "execute_result"
    }
   ],
   "source": [
    "len(negative_score)"
   ]
  },
  {
   "cell_type": "code",
   "execution_count": 53,
   "metadata": {},
   "outputs": [
    {
     "data": {
      "text/plain": [
       "(98, 15)"
      ]
     },
     "execution_count": 53,
     "metadata": {},
     "output_type": "execute_result"
    }
   ],
   "source": [
    "output_df.shape"
   ]
  },
  {
   "cell_type": "code",
   "execution_count": null,
   "metadata": {},
   "outputs": [],
   "source": []
  }
 ],
 "metadata": {
  "colab": {
   "provenance": []
  },
  "gpuClass": "standard",
  "kernelspec": {
   "display_name": "Python 3 (ipykernel)",
   "language": "python",
   "name": "python3"
  },
  "language_info": {
   "codemirror_mode": {
    "name": "ipython",
    "version": 3
   },
   "file_extension": ".py",
   "mimetype": "text/x-python",
   "name": "python",
   "nbconvert_exporter": "python",
   "pygments_lexer": "ipython3",
   "version": "3.11.4"
  }
 },
 "nbformat": 4,
 "nbformat_minor": 1
}
